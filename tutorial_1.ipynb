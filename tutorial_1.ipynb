{
 "cells": [
  {
   "cell_type": "markdown",
   "id": "990d83cd-8e73-44fb-bbe0-37fea3853528",
   "metadata": {},
   "source": [
    "# `tutorial_1`\n",
    "# A hands-on introduction to fitting\n",
    "\n",
    "In this tutorial you will learn how to fit simulated and data samples produced by the LHCb experiment at CERN. \n",
    "\n",
    "We will start by looking at the decay channel $B^+ \\to J/\\psi K^+$, a \"standard candle\" decay channel owing it its characteristically high signal statistics and purity. \n",
    "\n",
    "The oroginal data and Monte Carlo (MC) simulations have been originally made available by Dr Patrizia de Simone, at LNFN Frascati, Italy. Many thanks to the $R(D_s^*)$ LHCb team for sharing such datasets with us."
   ]
  },
  {
   "cell_type": "code",
   "execution_count": 65,
   "id": "bdb3e324-322d-43e9-946c-a813818880a4",
   "metadata": {},
   "outputs": [],
   "source": [
    "# basic imports; we will exploit many useful bespoke functions living in /utils/\n",
    "from utils import load_ntuple, load_root, read_config  # I/O\n",
    "from utils import (\n",
    "    simple_ax,\n",
    "    plot_data,\n",
    "    save_to,\n",
    "    viz_signal,\n",
    "    hist_err,\n",
    "    hist_step_fill,\n",
    "    fill_hist_w,\n",
    "    make_legend,\n",
    "    eff_plot,\n",
    ")  # plotting to publication standard\n",
    "from utils import (\n",
    "    pdf_factory,\n",
    "    cdf_factory,\n",
    "    SanityChecks,\n",
    "    pdf_factory,\n",
    "    composite_pdf_factory,\n",
    "    composite_cdf_factory,\n",
    "    twoclass_cdf,\n",
    "    twoclass_pdf,\n",
    ")  # fitting\n",
    "\n",
    "# import standard python modules\n",
    "from iminuit import cost, Minuit\n",
    "import awkward as ak\n",
    "import pandas as pd\n",
    "import numpy as np"
   ]
  },
  {
   "cell_type": "code",
   "execution_count": 32,
   "id": "baa350a8-7a2c-4922-bd14-f2d7e67f60b4",
   "metadata": {},
   "outputs": [],
   "source": [
    "# define some global variables\n",
    "\n",
    "# this is an auxiliary function to define a preliminary cleanup of the datasets\n",
    "data_selection = (\n",
    "    lambda m_min, m_max: f\"((muplus_L0MuonDecision_TOS==1) | (muminus_L0MuonDecision_TOS==1)) \\\n",
    "            & (B_M>{m_min}) \\\n",
    "            & (B_M<{m_max})\"\n",
    ")\n",
    "\n",
    "# pep8 for immutables\n",
    "# number of mins considered in the NLL minimisation in the fit\n",
    "FIT_BINS = 40\n",
    "PLOT_BINS = 100\n",
    "MRANGE = (5200, 5400) # considered beauty mass range, in MeV/c^2 -> see https://en.wikipedia.org/wiki/B_meson; you are interested in B+ mesons (two-quark states\n",
    "\n",
    "# branches of interest\n",
    "BRANCHES = [\n",
    "    \"B_M\", # beauty invariant mass sprectum\n",
    "]"
   ]
  },
  {
   "cell_type": "markdown",
   "id": "f1cfb79b-a769-49aa-ae41-afbd277136fe",
   "metadata": {},
   "source": [
    "The following two cells allow us to skim and write-to-file data and MC that are access-restricted. I place these here for bookeeping, but Amir and Kevin will receive the `.pkl` file separately via a private channel. "
   ]
  },
  {
   "cell_type": "code",
   "execution_count": 17,
   "id": "b6e04c81-855f-4673-b19d-d01e612a814b",
   "metadata": {},
   "outputs": [],
   "source": [
    "# read in the config file parameters to source data from access-restricted remote locations (LHCb members only)\n",
    "_mc_path = read_config(path=\"config.yml\", key=\"misc\")[\"eos_path_b2jsik_mc16_md\"]\n",
    "_data_path = read_config(path=\"config.yml\", key=\"misc\")[\"eos_path_b2jsik_data16_md\"]"
   ]
  },
  {
   "cell_type": "code",
   "execution_count": 58,
   "id": "c0282dfa-6b1a-44f4-8efa-ba5922773b31",
   "metadata": {},
   "outputs": [
    {
     "name": "stdout",
     "output_type": "stream",
     "text": [
      "\n",
      "SUCCESS: loaded with 300740 entries\n",
      "'load_ntuple' execution completed in 2.3618 secs\n",
      "\n"
     ]
    },
    {
     "name": "stderr",
     "output_type": "stream",
     "text": [
      "Batches loaded: 100%|###########################################| 1/1 [00:01<00:00,  1.49s/it]"
     ]
    },
    {
     "name": "stdout",
     "output_type": "stream",
     "text": [
      "\n",
      "SUCCESS: loaded with 413434 entries\n"
     ]
    },
    {
     "name": "stderr",
     "output_type": "stream",
     "text": [
      "\n"
     ]
    }
   ],
   "source": [
    "# skim remote MC file and write to /scratch/\n",
    "# ------------------------------------------\n",
    "# technicality: truthmatching \n",
    "mc_sel = f\"{data_selection(*MRANGE)} \\\n",
    "    & (abs(B_TRUEID)==521) & (Jpsi_TRUEID==443) & (abs(Jpsi_MC_MOTHER_ID)==521) & (abs(muplus_TRUEID)==13) & (muplus_MC_MOTHER_ID==443) & (abs(muminus_TRUEID)==13) & (muminus_MC_MOTHER_ID==443) & (abs(K_TRUEID)==321) & (abs(K_MC_MOTHER_ID)==521)\"\n",
    "\n",
    "# load the file \n",
    "_mc = load_ntuple(\n",
    "    file_path=f\"root://eoslhcb.cern.ch/{_mc_path}\",\n",
    "    key=\"B2DsMuNuTuple\",\n",
    "    tree_name=\"DecayTree\",\n",
    "    max_entries=-1,\n",
    "    branches=BRANCHES,\n",
    "    cut=mc_sel,\n",
    ")\n",
    "\n",
    "# convert to pandas for ease of use and write to pkl for persistence\n",
    "mc = ak.to_dataframe(_mc)\n",
    "mc.to_pickle(\"scratch/b2jpsik_mc16_md.pkl\")\n",
    "\n",
    "\n",
    "# now execute the same, but for data\n",
    "# ----------------------------------\n",
    "data = load_root(\n",
    "    file_path=f\"root://eoslhcb.cern.ch/{_data_path}\",\n",
    "    key=\"B2DsMuNuTuple\",\n",
    "    tree_name=\"DecayTree\",\n",
    "    library=\"pd\",\n",
    "    max_entries=-1,\n",
    "    branches=[\"B_M\"],\n",
    "    cut=data_selection(*MRANGE),  # make sure we don't include Bc decays\n",
    ")\n",
    "data.to_pickle(\"scratch/b2jpsik_data16_md.pkl\")"
   ]
  },
  {
   "cell_type": "raw",
   "id": "d9562a98-e5a8-44a9-88f5-1a208c367de6",
   "metadata": {},
   "source": [
    "Hereafter, students and supervisor will share the same code. Kevin and Amir may follow the rest varbatim and try to tackle the challenge at the end of the notebook."
   ]
  },
  {
   "cell_type": "code",
   "execution_count": 59,
   "id": "1e757fde-e226-4696-98f5-957914e0d6dc",
   "metadata": {},
   "outputs": [],
   "source": [
    "# load the data and mc dataset from the .pkl files\n",
    "LOCAL_DATA_DIR = \"scratch\" # either place data here or amend to match custom location\n",
    "MC = pd.read_pickle(f\"{LOCAL_DATA_DIR}/b2jpsik_mc16_md.pkl\")\n",
    "DATA = pd.read_pickle(f\"{LOCAL_DATA_DIR}/b2jpsik_data16_md.pkl\")"
   ]
  },
  {
   "cell_type": "markdown",
   "id": "5f7f1067-7bd0-413d-8a83-55fbb5125da6",
   "metadata": {},
   "source": [
    "OK, all going well, you have at your figertips your first-ever data and MC samples by LHCb. Congrats! \n",
    "\n",
    "Now, let us look at the distributions of the beauty-particle ($B^+$) in data and MC simulation, to get a feeling of what's going on:"
   ]
  },
  {
   "cell_type": "code",
   "execution_count": 63,
   "id": "3521ad38-0304-471d-8316-6573176d2e94",
   "metadata": {},
   "outputs": [
    {
     "data": {
      "text/plain": [
       "Text(0.5, 0, 'Beauty invariant mass, $m(J/\\\\psi K^+)$ [MeV$/c^2$]')"
      ]
     },
     "execution_count": 63,
     "metadata": {},
     "output_type": "execute_result"
    },
    {
     "data": {
      "image/png": "[encoded data removed]",
      "text/plain": [
       "<Figure size 350x262.5 with 1 Axes>"
      ]
     },
     "metadata": {},
     "output_type": "display_data"
    }
   ],
   "source": [
    "# let's look at MC first - these are *signal-only* simulated events\n",
    "# -----------------------------------------------------------\n",
    "\n",
    "# book a canvas for the plot\n",
    "fig, ax = simple_ax()\n",
    "\n",
    "# plot the simulated bin counts, with the error being the sqrt(bin content) - we assume Poisson stats in the high-stats limit\n",
    "plot_data(\n",
    "    data=MC.B_M,\n",
    "    range=MRANGE,\n",
    "    bins=PLOT_BINS,\n",
    "    ax=ax,\n",
    "    label=\"Simulation 2016\",\n",
    ")\n",
    "ax.set_ylim(bottom=0)\n",
    "ax.set_xlabel(r\"Beauty invariant mass, $m(J/\\psi K^+)$ [MeV$/c^2$]\")"
   ]
  },
  {
   "cell_type": "markdown",
   "id": "b4289b95-8828-494e-8bbf-f1e45cc09f78",
   "metadata": {},
   "source": [
    "Did you inspect the wiki page on $B^+$ mesons? How does this mass interval (and resonance) compare with the relevant nominal mass value?\n",
    "\n",
    "The logo `DDmisID` is due to the recycled code from a python module I am developing. Kevin will help me get it done."
   ]
  },
  {
   "cell_type": "code",
   "execution_count": 64,
   "id": "a208b07c-7347-43b1-ae4a-1ca9570eca71",
   "metadata": {},
   "outputs": [
    {
     "data": {
      "text/plain": [
       "Text(0.5, 0, 'Beauty invariant mass, $m(J/\\\\psi K^+)$ [MeV$/c^2$]')"
      ]
     },
     "execution_count": 64,
     "metadata": {},
     "output_type": "execute_result"
    },
    {
     "data": {
      "image/png": "[encoded data removed]",
      "text/plain": [
       "<Figure size 350x262.5 with 1 Axes>"
      ]
     },
     "metadata": {},
     "output_type": "display_data"
    }
   ],
   "source": [
    "# now let's look at the data\n",
    "# --------------------------\n",
    "\n",
    "# book a canvas for the plot\n",
    "fig, ax = simple_ax()\n",
    "\n",
    "# plot the LHCb-reconstructed bin counts, with the error being the sqrt(bin content) - we assume Poisson stats in the high-stats limit\n",
    "plot_data(\n",
    "    data=DATA.B_M,\n",
    "    range=MRANGE,\n",
    "    bins=PLOT_BINS,\n",
    "    ax=ax,\n",
    "    label=\"Data 2016\",\n",
    ")\n",
    "ax.set_ylim(bottom=0)\n",
    "ax.set_xlabel(r\"Beauty invariant mass, $m(J/\\psi K^+)$ [MeV$/c^2$]\")"
   ]
  },
  {
   "cell_type": "markdown",
   "id": "ce2f3b34-a261-4691-8a47-3215c03157aa",
   "metadata": {},
   "source": [
    "Notice how this distribution is \"fatter\" on both sides; modelling these days, apart from the signal \"bump\" at the centre, is the challenge of this first stage of the tutorial. Also, note that there is some quasi-uniform background on top of which the bump is placed. This is a background, called \"combinatorial. We will discuss this in our next meeting.  \n",
    "\n",
    "The (limited! hence the adoption of this particular decay channel) abundance of backgrounds is due to a) imperfect detector effects (Kevin's focus); b) irreducible effects that should just be minimised at much as possible (Amir's focus)."
   ]
  },
  {
   "cell_type": "markdown",
   "id": "3e495259-588c-4cfe-bb77-7bbdb7cf424d",
   "metadata": {},
   "source": [
    "## Fitting the simulated dataset"
   ]
  },
  {
   "cell_type": "markdown",
   "id": "9a0a246c-ee20-415e-8ad4-7d92ec93f285",
   "metadata": {},
   "source": [
    "We will deplot the `iminuit` machinery. I expect you to have tried some basic tutorial. Let's start simple and get our hands dirty progressively.  \n",
    "\n",
    "\n",
    "This stage of the tutorial amounts to exploting the MC sample to obtain a reliable description of the signal component in data. We shall use, effectively a mixture of analytical functions: \n",
    "- a [Gaussian function](https://en.wikipedia.org/wiki/Gaussian_function) to model the \"core\" of the signal;\n",
    "- a series of [Crystal Ball functions](https://en.wikipedia.org/wiki/Crystal_Ball_function), to model energy-lossy processes as the mass of the beauty decay process nears the nominal mass value of the $B^+$ resonance \n",
    "\n",
    "The functions are handily defined in `utils/source.py`in `pdf_factory` for our convenience. For the time being, please try to understand the individual functions and let's see if it _does_ model the signal. \n"
   ]
  },
  {
   "cell_type": "code",
   "execution_count": 67,
   "id": "33b02fdd-d951-4c90-8ced-9f6042028191",
   "metadata": {},
   "outputs": [],
   "source": [
    "# define the signal pdf -> https://en.wikipedia.org/wiki/Probability_density_function\n",
    "dcbgauss_pdf = pdf_factory(mrange=MRANGE, key=\"signal\")\n",
    "\n",
    "# define the signal cdf -> https://en.wikipedia.org/wiki/Cumulative_distribution_function\n",
    "dcbgauss_cdf = cdf_factory(mrange=MRANGE, key=\"signal\")"
   ]
  },
  {
   "cell_type": "markdown",
   "id": "3058736d-ea81-4927-a5a6-3ca459da67bd",
   "metadata": {},
   "source": [
    "Now we provide the data points (ie mass-bin counts) that we want to construct a cost function from. "
   ]
  },
  {
   "cell_type": "code",
   "execution_count": 68,
   "id": "cb6b5495-cb3b-421c-b7b1-7ac78fdf88ff",
   "metadata": {},
   "outputs": [],
   "source": [
    " # minimise the cost [https://iminuit.readthedocs.io/en/stable/notebooks/cost_functions.html#Binned-Fit]\n",
    "nh, xe = np.histogram(MC[\"B_M\"].to_numpy(), bins=FIT_BINS, range=MRANGE)"
   ]
  },
  {
   "cell_type": "markdown",
   "id": "daab4dfe-e67c-43c8-abd1-dcc08d67cc75",
   "metadata": {},
   "source": [
    "Now, we are simply interested in learning the parameters of the signal pdf, not it's yield. A simple [binned negative log-likelihood](https://iminuit.readthedocs.io/en/stable/notebooks/binned_vs_unbinned.html) fit will suffice."
   ]
  },
  {
   "cell_type": "code",
   "execution_count": 70,
   "id": "789628ac-3af4-4a1c-ba48-1fd13f960098",
   "metadata": {},
   "outputs": [],
   "source": [
    "cost_obj = cost.BinnedNLL(nh, xe, dcbgauss_cdf)"
   ]
  },
  {
   "cell_type": "markdown",
   "id": "226e82e0-610c-4953-8131-b03384c78dde",
   "metadata": {},
   "source": [
    "Now let's define the free parameter ranges and initialisation values.  \n",
    "\n",
    "You can get a feeling of what these parameters are by looking at the source code in `utils/models.py` and the respective definitions in the `scipy` docs."
   ]
  },
  {
   "cell_type": "code",
   "execution_count": 71,
   "id": "127c7b9c-fd8b-4ada-87c6-0c23fc38ee44",
   "metadata": {},
   "outputs": [],
   "source": [
    "# build the Minuit object handling the cost minimisation -> identifty the parameter values that yield the best agreement with the data\n",
    "mi = Minuit(\n",
    "    cost_obj,\n",
    "    f1=0.3,\n",
    "    f2=0.5,\n",
    "    mug=6275,\n",
    "    sgg=20,\n",
    "    sgl=20,\n",
    "    sgr=20,\n",
    "    al=1,\n",
    "    ar=1,\n",
    "    nl=10,\n",
    "    nr=10,\n",
    ")\n",
    "\n",
    "# define the parameter ranges\n",
    "mi.limits[\"f1\"] = (0, 1)\n",
    "mi.limits[\"f2\"] = (0, 1)\n",
    "mi.limits[\"mug\"] = (5200, 5400)\n",
    "mi.limits[\"sgg\"] = (0, 50)\n",
    "mi.limits[\"sgl\"] = (0, 50)\n",
    "mi.limits[\"sgr\"] = (0, 50)\n",
    "mi.limits[\"al\"] = (0, 10)\n",
    "mi.limits[\"ar\"] = (0, 10)\n",
    "mi.limits[\"nl\"] = (0, 20)\n",
    "mi.limits[\"nr\"] = (0, 20)"
   ]
  },
  {
   "cell_type": "code",
   "execution_count": null,
   "id": "c3733c45-497d-441a-99b7-37a78132e924",
   "metadata": {},
   "outputs": [
    {
     "ename": "",
     "evalue": "",
     "output_type": "error",
     "traceback": [
      "\u001b[1;31mJupyter cannot be started. Error attempting to locate Jupyter: Running cells with 'misid_env' requires the notebook package.\n",
      "\u001b[1;31mRun the following command to install 'jupyter and notebook' into the Python environment. \n",
      "\u001b[1;31mCommand: 'python -m pip install jupyter notebook -U\n",
      "\u001b[1;31mor\n",
      "\u001b[1;31mconda install jupyter notebook -U'\n",
      "\u001b[1;31mClick <a href='https://aka.ms/installJupyterForVSCode'>here</a> for more info."
     ]
    }
   ],
   "source": [
    "# execute the cost minimisation and the error estimation \n",
    "# -> see https://iminuit.readthedocs.io/en/stable/notebooks/basic.html#Basics for basic (and sufficient) info\n",
    "# -> see https://iminuit.readthedocs.io/en/stable/notebooks/hesse_and_minos.html for more details (if enthusiastic ;-) )\n",
    "mi.migrad()\n",
    "mi.hesse()"
   ]
  },
  {
   "cell_type": "markdown",
   "id": "887549e0-03ae-42b2-b6ce-cc555b4f2f44",
   "metadata": {},
   "source": [
    "### Challenge\n",
    "\n",
    "Go head and try to unpack this info. What is it telling me?"
   ]
  },
  {
   "cell_type": "code",
   "execution_count": 77,
   "id": "43833b1f-7a61-4671-af54-d774c1a892b0",
   "metadata": {},
   "outputs": [
    {
     "name": "stdout",
     "output_type": "stream",
     "text": [
      "\u001b[32mMinuit fmin is valid\u001b[0m\n",
      "\u001b[32mMinuit fmin has accurate covariance matrix\u001b[0m\n"
     ]
    }
   ],
   "source": [
    "# I typically implement a wrapper sanity checker myself. You can see its definition in utils/fit.py\n",
    "SanityChecks(mi)()"
   ]
  },
  {
   "cell_type": "markdown",
   "id": "4fa9b84f-9a80-4d75-a95b-83a436683d50",
   "metadata": {},
   "source": [
    "Congrats! Looks like the fit has converged and the sanity checks have passed (can you tell me what I should keep an eye for to judge the sanity of the fit?) \n",
    "\n",
    "To conclude this first installment, let us look at the fit result. Next time we will start modelling the aforementioned combinatorial. The time after that, you'll have an attempt at fitting the full data spectrum!"
   ]
  },
  {
   "cell_type": "code",
   "execution_count": 86,
   "id": "5ca35b9a-c7a0-458a-b086-00f5a8fdc167",
   "metadata": {},
   "outputs": [
    {
     "data": {
      "text/plain": [
       "Text(0.5, 0, 'Beauty invariant mass, $m(J/\\\\psi K^+)$ [MeV$/c^2$]')"
      ]
     },
     "execution_count": 86,
     "metadata": {},
     "output_type": "execute_result"
    },
    {
     "data": {
      "image/png": "[encoded data removed]",
      "text/plain": [
       "<Figure size 350x262.5 with 1 Axes>"
      ]
     },
     "metadata": {},
     "output_type": "display_data"
    }
   ],
   "source": [
    "# viz results\n",
    "# -----------\n",
    "fig, ax = simple_ax()\n",
    "\n",
    "# fit model; handle the norm of the pdf\n",
    "nhp, _ = np.histogram(MC.B_M, range=MRANGE, bins=PLOT_BINS)\n",
    "_norm = np.sum(nhp) * (MRANGE[1] - MRANGE[0]) / PLOT_BINS\n",
    "_x = np.linspace(*MRANGE, PLOT_BINS)\n",
    "viz_signal(x=_x, y=_norm * dcbgauss_pdf(_x, *mi.values), ax=ax)(label=\"Fit\")\n",
    "\n",
    "# observation\n",
    "plot_data(\n",
    "    data=MC.B_M,\n",
    "    range=MRANGE,\n",
    "    bins=PLOT_BINS,\n",
    "    ax=ax,\n",
    "    label=\"Simulation 2016\",\n",
    ")\n",
    "# cosmetics & save\n",
    "make_legend(ax=ax, on_plot=False, ycoord=-.4)\n",
    "ax.set_xlabel(r\"Beauty invariant mass, $m(J/\\psi K^+)$ [MeV$/c^2$]\")"
   ]
  },
  {
   "cell_type": "markdown",
   "id": "dd9adc83-b3aa-4d0b-aac8-2f71a4d7f2c6",
   "metadata": {},
   "source": [
    "End of `tutorial-1.0`\n",
    "\n",
    "---"
   ]
  },
  {
   "cell_type": "code",
   "execution_count": null,
   "id": "b86627bf-85f4-43c2-b660-7d4739c3b0c7",
   "metadata": {},
   "outputs": [],
   "source": []
  }
 ],
 "metadata": {
  "kernelspec": {
   "display_name": "Python 3 (ipykernel)",
   "language": "python",
   "name": "python3"
  },
  "language_info": {
   "codemirror_mode": {
    "name": "ipython",
    "version": 3
   },
   "file_extension": ".py",
   "mimetype": "text/x-python",
   "name": "python",
   "nbconvert_exporter": "python",
   "pygments_lexer": "ipython3",
   "version": "3.10.9"
  }
 },
 "nbformat": 4,
 "nbformat_minor": 5
}
